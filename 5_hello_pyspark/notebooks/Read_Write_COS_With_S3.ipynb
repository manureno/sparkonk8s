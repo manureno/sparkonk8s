{
 "cells": [
  {
   "cell_type": "markdown",
   "id": "14e51494",
   "metadata": {},
   "source": [
    "### Setup connection to the Cloud Object Storage instance\n",
    "\n",
    "* The end point URL is available from the IBM Cloud COS interface \"Endpoint\"\n",
    "   * Tip : endpoints differs according to resiliency, location and other options\n",
    "* An access key must have been created with the HMAC option (IBM CLoud COS interface, menu \"Service Credential\")"
   ]
  },
  {
   "cell_type": "code",
   "execution_count": 1,
   "id": "4314b0b5",
   "metadata": {},
   "outputs": [],
   "source": [
    "import boto3\n",
    "\n",
    "s3 = boto3.resource('s3',\n",
    "                    endpoint_url='http://s3.eu-de.cloud-object-storage.appdomain.cloud/',\n",
    "                    aws_access_key_id='put_here_hmac_access_key',\n",
    "                    aws_secret_access_key='put_here_hmac_secret_key')\n"
   ]
  },
  {
   "cell_type": "markdown",
   "id": "cc82cc03",
   "metadata": {},
   "source": [
    "### List available Buckets"
   ]
  },
  {
   "cell_type": "code",
   "execution_count": 2,
   "id": "563ef901",
   "metadata": {},
   "outputs": [],
   "source": [
    "# Print out bucket names\n",
    "for bucket in s3.buckets.all():\n",
    "    print(bucket.name)"
   ]
  },
  {
   "cell_type": "markdown",
   "id": "9df6bc00",
   "metadata": {},
   "source": [
    "### Put an object in the bucket"
   ]
  },
  {
   "cell_type": "code",
   "execution_count": 5,
   "id": "adee9110",
   "metadata": {},
   "outputs": [],
   "source": [
    "txt_data = b'Hello Cloud Object Storage!'\n",
    "\n",
    "object = s3.Object('put_here_a_calid_bucket_name', '/hello_folder/hello_cos.txt')\n",
    "\n",
    "result = object.put(Body=txt_data, Metadata={'meta-data-key': 'meta-data-value'})\n",
    "\n"
   ]
  },
  {
   "cell_type": "code",
   "execution_count": null,
   "id": "dd6b2bed",
   "metadata": {},
   "outputs": [],
   "source": []
  }
 ],
 "metadata": {
  "kernelspec": {
   "display_name": "Python 3 (ipykernel)",
   "language": "python",
   "name": "python3"
  },
  "language_info": {
   "codemirror_mode": {
    "name": "ipython",
    "version": 3
   },
   "file_extension": ".py",
   "mimetype": "text/x-python",
   "name": "python",
   "nbconvert_exporter": "python",
   "pygments_lexer": "ipython3",
   "version": "3.10.2"
  }
 },
 "nbformat": 4,
 "nbformat_minor": 5
}
