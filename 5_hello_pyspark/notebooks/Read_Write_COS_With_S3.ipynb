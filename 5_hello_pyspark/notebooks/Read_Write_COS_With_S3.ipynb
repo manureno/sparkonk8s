{
 "cells": [
  {
   "cell_type": "markdown",
   "id": "14e51494",
   "metadata": {},
   "source": [
    "### Setup connection to the Cloud Object Storage instance\n",
    "\n",
    "* The end point URL is available from the IBM Cloud COS interface \"Endpoint\"\n",
    "   * Tip : endpoints differs according to resiliency, location and other options\n",
    "* An access key must have been created with the HMAC option (IBM CLoud COS interface, menu \"Service Credential\")\n",
    "\n",
    "* Enpoint, Access Key, Secret Key and Bucket Name are supposed to be available from environment variable"
   ]
  },
  {
   "cell_type": "code",
   "execution_count": 12,
   "id": "4314b0b5",
   "metadata": {},
   "outputs": [],
   "source": [
    "import boto3\n",
    "import os\n",
    "\n",
    "s3_url = os.getenv('COS_ENDPOINT')\n",
    "s3_access_key = os.getenv('COS_ACCESS_KEY')\n",
    "s3_secret_key = os.getenv('COS_SECRET_KEY')\n",
    "bucket_name = os.getenv('COS_BUCKET')\n",
    "\n",
    "\n",
    "s3 = boto3.resource('s3',\n",
    "                    endpoint_url=s3_url,\n",
    "                    aws_access_key_id=s3_access_key,\n",
    "                    aws_secret_access_key=s3_secret_key)\n"
   ]
  },
  {
   "cell_type": "markdown",
   "id": "cc82cc03",
   "metadata": {},
   "source": [
    "### List available Buckets"
   ]
  },
  {
   "cell_type": "code",
   "execution_count": 13,
   "id": "563ef901",
   "metadata": {},
   "outputs": [
    {
     "name": "stdout",
     "output_type": "stream",
     "text": [
      "\n"
     ]
    }
   ],
   "source": [
    "# Print out bucket names\n",
    "for bucket in s3.buckets.all():\n",
    "    print(bucket.name)"
   ]
  },
  {
   "cell_type": "markdown",
   "id": "9df6bc00",
   "metadata": {},
   "source": [
    "### Put an object in the bucket"
   ]
  },
  {
   "cell_type": "code",
   "execution_count": 14,
   "id": "adee9110",
   "metadata": {},
   "outputs": [],
   "source": [
    "txt_data = b'Hello Cloud Object Storage!'\n",
    "\n",
    "object = s3.Object(bucket_name, '/hello_folder/hello_cos.txt')\n",
    "\n",
    "result = object.put(Body=txt_data, Metadata={'meta-data-key': 'meta-data-value'})\n",
    "\n"
   ]
  },
  {
   "cell_type": "code",
   "execution_count": null,
   "id": "a43b6ed1",
   "metadata": {},
   "outputs": [],
   "source": []
  }
 ],
 "metadata": {
  "kernelspec": {
   "display_name": "Python 3 (ipykernel)",
   "language": "python",
   "name": "python3"
  },
  "language_info": {
   "codemirror_mode": {
    "name": "ipython",
    "version": 3
   },
   "file_extension": ".py",
   "mimetype": "text/x-python",
   "name": "python",
   "nbconvert_exporter": "python",
   "pygments_lexer": "ipython3",
   "version": "3.10.2"
  }
 },
 "nbformat": 4,
 "nbformat_minor": 5
}
